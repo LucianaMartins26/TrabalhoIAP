{
 "cells": [
  {
   "cell_type": "code",
   "execution_count": null,
   "metadata": {},
   "outputs": [],
   "source": [
    "from Bio import Entrez\n",
    "from Bio import Medline\n",
    "\n",
    "pubmedid = [\"18408150\",\"15164055\",\"24184542\",\"23313325\",\"28771590\"]\n",
    "abstract = []\n",
    "def getAbstractFromPubMed(lista):\n",
    "    Entrez.email = \"lucianacmartins8@gmail.com\"\n",
    "    for id in lista:\n",
    "        handle = Entrez.efetch(db=\"pubmed\", rettype=\"medline\", retmode=\"text\", id=str(id))\n",
    "        records = Medline.parse(handle)\n",
    "        for record in records:\n",
    "            abstract.append(str(record[\"AB\"]))\n",
    "    return abstract\n",
    "\n",
    "a = getAbstractFromPubMed(pubmedid)\n",
    "AB1, AB2, AB3, AB4, AB5 = a"
   ]
  },
  {
   "cell_type": "code",
   "execution_count": null,
   "metadata": {},
   "outputs": [],
   "source": [
    "affiliation = []\n",
    "def getAffiliationFromPubMed(lista):\n",
    "    Entrez.email = \"analisboasan@gmail.com\"\n",
    "    for id in lista:\n",
    "        handle = Entrez.efetch(db=\"pubmed\", rettype=\"medline\", retmode=\"text\", id=str(id))\n",
    "        records = Medline.parse(handle)\n",
    "        for record in records:\n",
    "            affiliation.append(str(record[\"AD\"]))\n",
    "    return affiliation\n",
    "\n",
    "b = getAffiliationFromPubMed(pubmedid)\n",
    "AD1, AD2, AD3, AD4, AD5 = b"
   ]
  },
  {
   "cell_type": "code",
   "execution_count": null,
   "metadata": {},
   "outputs": [],
   "source": [
    "date = []\n",
    "def getPublicationDateFromPubMed(lista):\n",
    "    Entrez.email = \"bruna_dfa@hotmail.com\"\n",
    "    for id in lista:\n",
    "        handle = Entrez.efetch(db=\"pubmed\", rettype=\"medline\", retmode=\"text\", id=str(id))\n",
    "        records = Medline.parse(handle)\n",
    "        for record in records:\n",
    "            date.append(str(record[\"DP\"]))\n",
    "    return date\n",
    "\n",
    "c = getPublicationDateFromPubMed(pubmedid)\n",
    "DP1, DP2, DP3, DP4, DP5 = c"
   ]
  }
 ],
 "metadata": {
  "kernelspec": {
   "display_name": "Python 3",
   "language": "python",
   "name": "python3"
  },
  "language_info": {
   "codemirror_mode": {
    "name": "ipython",
    "version": 3
   },
   "file_extension": ".py",
   "mimetype": "text/x-python",
   "name": "python",
   "nbconvert_exporter": "python",
   "pygments_lexer": "ipython3",
   "version": "3.8.5"
  }
 },
 "nbformat": 4,
 "nbformat_minor": 4
}
