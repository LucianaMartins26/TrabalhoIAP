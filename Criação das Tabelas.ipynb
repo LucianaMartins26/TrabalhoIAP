{
 "cells": [
  {
   "cell_type": "code",
   "execution_count": null,
   "metadata": {},
   "outputs": [],
   "source": [
    "import mysql.connector as SQLC\n",
    "\n",
    "DataBase = SQLC.connect(\n",
    "   host =\"127.0.0.1\",\n",
    "   user =\"root\",\n",
    "   password =\"LuCm262001\",\n",
    "    database = \"trabalhoiap\"\n",
    ")\n",
    "Cursor = DataBase.cursor()\n",
    "\n",
    "TableName =\"\"\"CREATE TABLE GenBank_Informations\n",
    "    (\n",
    "    locusid varchar(255) PRIMARY KEY,\n",
    "    dnasource text,\n",
    "    definition text,\n",
    "    pubmedcod varchar(255), \n",
    "    dnasequence LONGTEXT,\n",
    "    length varchar(25)\n",
    "    );\n",
    "\"\"\"\n",
    "\n",
    "Cursor.execute(TableName)"
   ]
  },
  {
   "cell_type": "code",
   "execution_count": null,
   "metadata": {},
   "outputs": [],
   "source": [
    "import mysql.connector as SQLC\n",
    "\n",
    "DataBase = SQLC.connect(\n",
    "   host =\"127.0.0.1\",\n",
    "   user =\"root\",\n",
    "   password =\"LuCm262001\",\n",
    "    database = \"trabalhoiap\"\n",
    ")\n",
    "Cursor = DataBase.cursor()\n",
    "\n",
    "TableName2 =\"\"\"CREATE TABLE PubMed_Informations\n",
    "    (\n",
    "    pubmedcod varchar(255),\n",
    "    locusid varchar(255),\n",
    "    publication_link text,\n",
    "    authors text,\n",
    "    title text,\n",
    "    affiliation text,\n",
    "    abstract text,\n",
    "    publication_date text,\n",
    "    PRIMARY KEY (pubmedcod),\n",
    "    FOREIGN KEY (locusid) REFERENCES GenBank_Informations(locusid)\n",
    "    );\n",
    "\"\"\"\n",
    "\n",
    "Cursor.execute(TableName2)"
   ]
  },
  {
   "cell_type": "code",
   "execution_count": null,
   "metadata": {},
   "outputs": [],
   "source": [
    "import mysql.connector as SQLC\n",
    "\n",
    "DataBase = SQLC.connect(\n",
    "   host =\"127.0.0.1\",\n",
    "   user =\"root\",\n",
    "   password =\"LuCm262001\",\n",
    "    database = \"trabalhoiap\"\n",
    ")\n",
    "Cursor = DataBase.cursor()\n",
    "\n",
    "TableName3 =\"\"\"CREATE TABLE Protein_Informations\n",
    "    (\n",
    "    locus_dna varchar(255),\n",
    "    locus_protein varchar(255),\n",
    "    source text,\n",
    "    definition text, \n",
    "    proteinsequence LONGTEXT,\n",
    "    length varchar(25),\n",
    "    PRIMARY KEY (locus_protein),\n",
    "    FOREIGN KEY (locus_dna) REFERENCES GenBank_Informations(locusid)\n",
    "    );\n",
    "\"\"\"\n",
    "\n",
    "Cursor.execute(TableName3)"
   ]
  }
 ],
 "metadata": {
  "kernelspec": {
   "display_name": "Python 3",
   "language": "python",
   "name": "python3"
  },
  "language_info": {
   "codemirror_mode": {
    "name": "ipython",
    "version": 3
   },
   "file_extension": ".py",
   "mimetype": "text/x-python",
   "name": "python",
   "nbconvert_exporter": "python",
   "pygments_lexer": "ipython3",
   "version": "3.8.5"
  }
 },
 "nbformat": 4,
 "nbformat_minor": 4
}
